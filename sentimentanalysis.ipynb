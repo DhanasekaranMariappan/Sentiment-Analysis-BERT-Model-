{
  "nbformat": 4,
  "nbformat_minor": 0,
  "metadata": {
    "colab": {
      "provenance": [],
      "toc_visible": true,
      "authorship_tag": "ABX9TyPN6kN/vTDYfM4opnJ9zKEd",
      "include_colab_link": true
    },
    "kernelspec": {
      "name": "python3",
      "display_name": "Python 3"
    },
    "language_info": {
      "name": "python"
    }
  },
  "cells": [
    {
      "cell_type": "markdown",
      "metadata": {
        "id": "view-in-github",
        "colab_type": "text"
      },
      "source": [
        "<a href=\"https://colab.research.google.com/github/DhanasekaranMariappan/Sentiment-Analysis-BERT-Model-/blob/main/sentimentanalysis.ipynb\" target=\"_parent\"><img src=\"https://colab.research.google.com/assets/colab-badge.svg\" alt=\"Open In Colab\"/></a>"
      ]
    },
    {
      "cell_type": "markdown",
      "source": [
        "# Sentiment Analysis using BERT(Binary Encoder representations Transformers) model"
      ],
      "metadata": {
        "id": "n_Shqeic18qA"
      }
    },
    {
      "cell_type": "markdown",
      "source": [
        "# Step 1: Install Libraries"
      ],
      "metadata": {
        "id": "feM4BTqV3WUw"
      }
    },
    {
      "cell_type": "code",
      "source": [
        "# prompt: install scikit-learn library without fail\n",
        "\n",
        "!pip install -q scikit-learn\n",
        "!pip install transformers huggingface_hub fsspec torch datasets pandas"
      ],
      "metadata": {
        "id": "yeX2ktKo3f_M"
      },
      "execution_count": null,
      "outputs": []
    },
    {
      "cell_type": "markdown",
      "source": [
        "#Step 2: Load Dataset(IMDb reviews)\n",
        "         \n",
        "We'll use Hugging Face's datasets library:"
      ],
      "metadata": {
        "id": "qibRjO7S3rSW"
      }
    },
    {
      "cell_type": "code",
      "source": [
        "from datasets import load_dataset\n",
        "\n",
        "dataset = load_dataset(\"imdb\")\n",
        "print(dataset[\"train\"][0])  # Check a sample review"
      ],
      "metadata": {
        "id": "XtXdXV3z4KGN"
      },
      "execution_count": null,
      "outputs": []
    },
    {
      "cell_type": "markdown",
      "source": [
        "If you facing value error:\n",
        "The traceback indicates a ValueError: Invalid pattern: '**' can only be an entire path component occurring within the fsspec library, which is used by the datasets library to handle file paths, particularly when dealing with remote files or patterns. This error happens during the process of loading the \"imdb\" dataset using load_dataset(\"imdb\").\n",
        "\n",
        "The load_dataset function, when given a dataset name like \"imdb\", looks for the dataset definition script and data files on the Hugging Face Hub. It appears that internally, the file system abstraction (fsspec) is encountering an invalid glob pattern, likely when trying to find the data files for the \"imdb\" dataset. The specific error message suggests that the ** pattern is used incorrectly within a path component, rather than as a full component itself (e.g., dir/**/file.txt is valid, but dir/fi**le.txt is not).\n",
        "\n",
        "Since we providing a simple string (\"imdb\") and not a local path or a complex pattern, the issue is likely not with our input but rather with how the datasets library or its underlying file system abstraction is interpreting or constructing file patterns internally when accessing the \"imdb\" dataset resources on the Hugging Face Hub. This could be due to temporary issues with the dataset's metadata or file structure on the hub, or a specific version incompatibility between the installed libraries.\n",
        "\n",
        "Suggested Changes\n",
        "Since our code for loading the dataset is standard and the error is deep within the library's file handling, the most likely cause is an environmental issue or a temporary problem with accessing the dataset resources.\n",
        "\n",
        "Ensure Internet Connectivity: The load_dataset function needs to download the dataset definition script and potentially the data files from the internet. Verify that the environment has stable internet access.\n",
        "Clear the Cache: Sometimes, corrupted or outdated cached files can cause issues. Clearing the datasets cache might resolve the problem.\n",
        "Check Library Versions: While the installed libraries (transformers, torch, datasets, pandas, sklearn) are listed, ensuring compatible versions might help. However, the traceback doesn't strongly suggest a version conflict as the primary cause of this specific error.\n",
        "Retry: Temporary network issues or server-side problems on the Hugging Face Hub can cause transient errors. Retrying the load_dataset call after a short while might resolve the issue.\n",
        "Given the nature of the error and the standard use of load_dataset, there's no code change needed in the user's script itself. The troubleshooting steps involve checking the environment and potentially clearing the cache.\n",
        "\n",
        "Here's how to clear the cache in a Jupyter environment:"
      ],
      "metadata": {
        "id": "rAv54hrf_C3p"
      }
    },
    {
      "cell_type": "code",
      "source": [
        "# Import necessary modules\n",
        "from datasets.utils.logging import disable_progress_bar\n",
        "import os\n",
        "import shutil\n",
        "\n",
        "# Disable progress bars for cleaner output if desired\n",
        "disable_progress_bar()\n",
        "\n",
        "# Define the default cache directory\n",
        "# This is the typical default location for datasets cache\n",
        "datasets_cache_dir = os.path.expanduser(\"~/.cache/huggingface/datasets\")\n",
        "\n",
        "# Check if the cache directory exists\n",
        "if os.path.exists(datasets_cache_dir):\n",
        "    print(f\"Clearing datasets cache at: {datasets_cache_dir}\")\n",
        "    try:\n",
        "        shutil.rmtree(datasets_cache_dir)\n",
        "        print(\"Cache cleared successfully.\")\n",
        "    except Exception as e:\n",
        "        print(f\"Error clearing cache: {e}\")\n",
        "else:\n",
        "    print(f\"Datasets cache directory not found at: {datasets_cache_dir}\")\n",
        "\n",
        "# Now, try loading the dataset again\n",
        "from datasets import load_dataset\n",
        "\n",
        "try:\n",
        "    dataset = load_dataset(\"imdb\")\n",
        "    print(\"Dataset loaded successfully after clearing cache.\")\n",
        "    print(dataset[\"train\"][0]) # Check a sample review\n",
        "except Exception as e:\n",
        "    print(f\"Failed to load dataset after clearing cache: {e}\")"
      ],
      "metadata": {
        "id": "ayB6fYRL-PYu"
      },
      "execution_count": null,
      "outputs": []
    },
    {
      "cell_type": "markdown",
      "source": [
        "#Still facing ValueError:\n",
        "Clearing the cache did not resolve the ValueError: Invalid pattern: '**' can only be an entire path component. This indicates that the issue is likely not due to a corrupted local cache of the dataset metadata or files.\n",
        "\n",
        "Since the error persists and is still within the fsspec library when trying to load the \"imdb\" dataset, the problem is likely originating from:\n",
        "\n",
        "A temporary issue on the Hugging Face Hub: The metadata or file structure for the \"imdb\" dataset on the Hub might be temporarily misconfigured, causing the fsspec library to encounter an invalid glob pattern during the internal process of discovering or accessing the data files.\n",
        "A version incompatibility: Although the initial analysis didn't strongly point to this, there might be a subtle incompatibility between the specific versions of datasets, huggingface_hub, and fsspec that are currently installed in your environment. This incompatibility could lead to incorrect pattern construction or interpretation when interacting with the Hub.\n",
        "Network issues preventing proper metadata retrieval: Even if the cache is clear, transient network problems could prevent the datasets library from correctly fetching the necessary information from the Hugging Face Hub to construct valid file paths.\n",
        "Given that clearing the cache didn't work, the most probable causes are a temporary Hub issue or a version incompatibility.\n",
        "\n",
        "#Suggested Changes\n",
        "Since the error is still happening after clearing the cache, and the code for loading the dataset is standard, we should focus on addressing potential version issues or giving the Hub another chance.\n",
        "\n",
        "**Retry Loading:** As suggested before, temporary issues on the Hugging Face Hub can occur. Try running the load_dataset(\"imdb\") command again after a short while (e.g., a few minutes) to see if it was a transient problem.\n",
        "**Specify a revision:** The datasets library allows us to specify a particular revision (a commit hash or tag) of the dataset on the Hugging Face Hub. This can sometimes help if the main branch of the dataset repository on the Hub has a temporary issue. However, finding a stable recent revision might require checking the dataset's repository on the Hub.\n",
        "**Upgrade Libraries:** While we don't have definitive proof of a version conflict, upgrading the relevant libraries to their latest versions is a common troubleshooting step for issues deep within library code. This ensures you have the latest bug fixes and compatibility improvements.\n",
        "Given the simplicity of the load_dataset(\"imdb\") call, attempting a retry and then upgrading the libraries are the most straightforward next steps.\n",
        "\n",
        "Let's try upgrading the relevant libraries: datasets, huggingface_hub, and fsspec.\n",
        "\n",
        "Once the pip command runs it's asks for restart after restarting comment the pip command using the '#'"
      ],
      "metadata": {
        "id": "JVLt8wCRFdZa"
      }
    },
    {
      "cell_type": "code",
      "source": [
        "# Upgrade relevant libraries\n",
        "#!pip install --upgrade datasets huggingface_hub fsspec\n",
        "\n",
        "# Now, try loading the dataset again after upgrading\n",
        "from datasets import load_dataset\n",
        "\n",
        "try:\n",
        "    dataset = load_dataset(\"imdb\")\n",
        "    print(\"Dataset loaded successfully after upgrading libraries.\")\n",
        "    print(dataset[\"train\"][0]) # Check a sample review\n",
        "except Exception as e:\n",
        "    print(f\"Failed to load dataset after upgrading libraries: {e}\")"
      ],
      "metadata": {
        "id": "pMh23rzzFDwx"
      },
      "execution_count": null,
      "outputs": []
    },
    {
      "cell_type": "markdown",
      "source": [
        "# Step 3: Tokenize the Data\n",
        "BERT requires tokenization with padding/truncation:"
      ],
      "metadata": {
        "id": "ynwSoX6-4na0"
      }
    },
    {
      "cell_type": "code",
      "source": [
        "from transformers import BertTokenizer\n",
        "\n",
        "tokenizer = BertTokenizer.from_pretrained(\"bert-base-uncased\")\n",
        "\n",
        "def tokenize_function(examples):\n",
        "    return tokenizer(examples[\"text\"], padding=\"max_length\", truncation=True, max_length=512)\n",
        "\n",
        "tokenized_datasets = dataset.map(tokenize_function, batched=True)"
      ],
      "metadata": {
        "id": "bGbttiT35bos"
      },
      "execution_count": null,
      "outputs": []
    },
    {
      "cell_type": "markdown",
      "source": [
        "#Step 4: Load Pre-Trained BERT Model"
      ],
      "metadata": {
        "id": "t-g1mIkj6TYT"
      }
    },
    {
      "cell_type": "code",
      "source": [
        "from transformers import BertForSequenceClassification\n",
        "\n",
        "model = BertForSequenceClassification.from_pretrained(\"bert-base-uncased\", num_labels=2) # 2 classes"
      ],
      "metadata": {
        "id": "HvO__9vv6Xk2"
      },
      "execution_count": null,
      "outputs": []
    },
    {
      "cell_type": "markdown",
      "source": [
        "#Step 5: Fine-Tune with Trainer"
      ],
      "metadata": {
        "id": "u7ocP_S96kHZ"
      }
    },
    {
      "cell_type": "code",
      "source": [
        "from transformers import TrainingArguments, Trainer\n",
        "\n",
        "training_args = TrainingArguments(\n",
        "    output_dir=\"./results\",\n",
        "    num_train_epochs=3,\n",
        "    per_device_train_batch_size=8,\n",
        "    evaluation_strategy=\"epoch\", # Corrected keyword argument\n",
        "    save_strategy=\"epoch\",\n",
        "    logging_dir=\"./logs\",\n",
        ")\n",
        "\n",
        "trainer = Trainer(\n",
        "    model=model,\n",
        "    args=training_args,\n",
        "    train_dataset=tokenized_datasets[\"train\"].select(range(1000)), # Use subset for quick testing\n",
        "    eval_dataset=tokenized_datasets[\"test\"].select(range(100)),\n",
        ")\n",
        "\n",
        "trainer.train()"
      ],
      "metadata": {
        "id": "BVrL_LxELcwS"
      },
      "execution_count": null,
      "outputs": []
    },
    {
      "cell_type": "code",
      "source": [
        "# Upgrade relevant libraries, including torch and torchvision this time\n",
        "!pip install --upgrade transformers datasets huggingface_hub fsspec torch torchvision --index-url https://download.pytorch.org/whl/cu118 # Use the appropriate cu version for your environment, cu118 is common\n",
        "\n",
        "# Re-run the necessary steps to define model and tokenized_datasets\n",
        "\n",
        "from datasets import load_dataset\n",
        "from transformers import BertTokenizer, BertForSequenceClassification, TrainingArguments, Trainer\n",
        "import torch # Import torch explicitly\n",
        "\n",
        "# Load Dataset\n",
        "# Try loading the dataset with a specific revision if the issue persists,\n",
        "# though the original error was likely due to torch/torchvision\n",
        "try:\n",
        "    dataset = load_dataset(\"imdb\")\n",
        "    print(\"Dataset loaded successfully.\")\n",
        "except Exception as e:\n",
        "    print(f\"Failed to load dataset: {e}\")\n",
        "    # As a fallback, if \"imdb\" still fails, you could try a different small dataset\n",
        "    # dataset = load_dataset(\"emotion\", 'split', split='train[:1000]') # Example of another dataset\n",
        "\n",
        "# Tokenize the Data\n",
        "tokenizer = BertTokenizer.from_pretrained(\"bert-base-uncased\")\n",
        "\n",
        "def tokenize_function(examples):\n",
        "    return tokenizer(examples[\"text\"], padding=\"max_length\", truncation=True, max_length=512)\n",
        "\n",
        "# Handle potential dataset loading failure by checking if dataset is defined\n",
        "if 'dataset' in locals():\n",
        "    tokenized_datasets = dataset.map(tokenize_function, batched=True)\n",
        "else:\n",
        "    print(\"Dataset was not loaded successfully. Skipping tokenization and training.\")\n",
        "    # Exit or handle the error appropriately if dataset loading failed\n",
        "\n",
        "# Load Pre-Trained BERT Model\n",
        "# Check if tokenized_datasets was successfully created before proceeding\n",
        "if 'tokenized_datasets' in locals():\n",
        "    model = BertForSequenceClassification.from_pretrained(\"bert-base-uncased\", num_labels=2) # 2 classes\n",
        "\n",
        "    # Fine-Tune with Trainer\n",
        "    training_args = TrainingArguments(\n",
        "        output_dir=\"./results\",\n",
        "        num_train_epochs=3,\n",
        "        per_device_train_batch_size=8,\n",
        "        eval_strategy=\"epoch\", # Corrected keyword argument\n",
        "        save_strategy=\"epoch\",\n",
        "        logging_dir=\"./logs\",\n",
        "        report_to=\"none\" # Add this to potentially avoid issues with reporting\n",
        "    )\n",
        "\n",
        "    trainer = Trainer(\n",
        "        model=model,\n",
        "        args=training_args,\n",
        "        # Ensure datasets exist before selecting slices\n",
        "        train_dataset=tokenized_datasets[\"train\"].select(range(min(1000, len(tokenized_datasets[\"train\"])))), # Use subset for quick testing, ensure range is valid\n",
        "        eval_dataset=tokenized_datasets[\"test\"].select(range(min(100, len(tokenized_datasets[\"test\"])))), # Ensure range is valid\n",
        "    )\n",
        "\n",
        "    trainer.train()\n",
        "else:\n",
        "    print(\"Skipping model loading and training due to dataset loading failure.\")"
      ],
      "metadata": {
        "id": "DBNE0zIOLqPE"
      },
      "execution_count": null,
      "outputs": []
    },
    {
      "cell_type": "markdown",
      "source": [
        "#Step 6: Evaluate the Model"
      ],
      "metadata": {
        "id": "vfYmf4WE7vPu"
      }
    },
    {
      "cell_type": "code",
      "source": [
        "import numpy as np\n",
        "from sklearn.metrics import accuracy_score\n",
        "\n",
        "predictions = trainer.predict(tokenized_datasets[\"test\"].select(range(100)))\n",
        "preds = np.argmax(predictions.predictions, axis=-1)\n",
        "accuracy = accuracy_score(predictions.label_ids, preds)\n",
        "print(f\"Accuracy:\", accuracy_score(predictions.label_ids, preds))"
      ],
      "metadata": {
        "id": "zLqNs9lV70rO"
      },
      "execution_count": null,
      "outputs": []
    },
    {
      "cell_type": "markdown",
      "source": [
        "#Step 7: Save & Use the Fine-Tuned Model"
      ],
      "metadata": {
        "id": "muWVviJZ8ZjU"
      }
    },
    {
      "cell_type": "code",
      "source": [
        "model.save_pretrained(\"./my_bert_sentiment\")\n",
        "tokenizer.save_pretrained(\"./my_bert_sentiment\")\n",
        "\n",
        "#Load later for inference\n",
        "from transformers import pipeline\n",
        "classifer = pipeline(\"text-classification\", model=\"./my_bert_sentiment\", tokenizer=\"./my_bert_sentiment\")\n",
        "print(classifer(\"It's a good movie\"))"
      ],
      "metadata": {
        "id": "8UF46-ZE8c8W"
      },
      "execution_count": null,
      "outputs": []
    },
    {
      "cell_type": "markdown",
      "source": [
        "This section of the code is responsible for saving the trained BERT model and its corresponding tokenizer to disk. Saving the model and tokenizer allows you to reuse them later without needing to retrain the model. After saving, the code demonstrates how to load the saved components and use them with a pipeline for performing sentiment analysis on new text.\n",
        "\n",
        "First, the code saves the fine-tuned BERT model:\n",
        "\n",
        "model.save_pretrained(\"./my_bert_sentiment\")\n",
        "\n",
        "The save_pretrained() method is provided by the transformers library. It takes a directory path as an argument. This method will save the model's configuration and weights into files within the specified directory, which is \"./my_bert_sentiment\" in this case.\n",
        "\n",
        "Next, the code saves the tokenizer used with the model:\n",
        "\n",
        "tokenizer.save_pretrained(\"./my_bert_sentiment\")\n",
        "Use code with caution\n",
        "Similarly, the tokenizer.save_pretrained() method saves the tokenizer's vocabulary and configuration files into the same directory specified for the model. It's crucial to save the tokenizer along with the model, as the model expects input text to be tokenized in a specific way, which is defined by the tokenizer it was trained with.\n",
        "\n",
        "After saving, the code demonstrates how to load and use the saved model and tokenizer for inference (making predictions).\n",
        "\n",
        "#Load later for inference\n",
        "from transformers import pipeline\n",
        "classifer = pipeline(\"text-classification\", model=\"./my_bert_sentiment\", tokenizer=\"./my_bert_sentiment\")\n",
        "print(classifer(\"It's a average movie\"))\n",
        "Use code with caution\n",
        "This part first imports the pipeline function from the transformers library. The pipeline function provides a high-level API for performing various tasks, including text classification, using pre-trained or fine-tuned models.\n",
        "\n",
        "A pipeline object is created for the \"text-classification\" task. The model and tokenizer arguments are set to the directory where the model and tokenizer were saved (\"./my_bert_sentiment\"). The pipeline automatically loads the model and tokenizer from this directory.\n",
        "\n",
        "Finally, the created classifer pipeline is used to predict the sentiment of the text string \"It's a average movie\". The result of the classification, which will indicate whether the sentiment is positive or negative, is then printed to the console. This demonstrates how you can easily load your saved model and use it to make predictions on new data."
      ],
      "metadata": {
        "id": "yMxwk1cTT3On"
      }
    }
  ]
}